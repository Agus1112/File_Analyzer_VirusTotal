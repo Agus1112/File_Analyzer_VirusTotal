{
  "nbformat": 4,
  "nbformat_minor": 0,
  "metadata": {
    "colab": {
      "private_outputs": true,
      "provenance": [],
      "authorship_tag": "ABX9TyPamwA1QAJb9BVd66pyPQon",
      "include_colab_link": true
    },
    "kernelspec": {
      "name": "python3",
      "display_name": "Python 3"
    },
    "language_info": {
      "name": "python"
    }
  },
  "cells": [
    {
      "cell_type": "markdown",
      "metadata": {
        "id": "view-in-github",
        "colab_type": "text"
      },
      "source": [
        "<a href=\"https://colab.research.google.com/github/Agus1112/File_Analyzer_VirusTotal/blob/main/File_Analyzer.ipynb\" target=\"_parent\"><img src=\"https://colab.research.google.com/assets/colab-badge.svg\" alt=\"Open In Colab\"/></a>"
      ]
    },
    {
      "cell_type": "markdown",
      "source": [
        "![Virustotal.png](data:image/png;base64,iVBORw0KGgoAAAANSUhEUgAAAQAAAAB+CAYAAADLLc9jAAAAAXNSR0IArs4c6QAAAARnQU1BAACxjwv8YQUAAAAJcEhZcwAAFiUAABYlAUlSJPAAAB7iSURBVHhe7Z0LnBxVlf/vvVXVPXkZCIogSBABEQXBQELmkQC6iCwg6EZ3RQgzmUHwv8vqiogsAQYIirLq/v3jSpJJeBjd/QeIvBQhsEymJ4lAICivFV2QDSDIM4TMTHfVPfs7t6o63TM9PTPJDJlJzveTynTfulV1X+fcc+6jWgmCIAiCIAiCIAiCIAiCIAiCIAiCIAiCIAiCIAiCIAiCIAiCIAiCIAiCIAiCIAiCIAiCIAiCIAiCIAiCIAiCIAiCIAiCIAiCIAiCIAiCIAiCIAiCIAiCIAiCIAiCIAiCIAiCIAiCIAiCIAiCEDPtLAqSj4Ig7GTo2mY6zNd0tTKqmwrK4u8Ogxcoz1r18KprzfwkSBCEEjRbAOOJLs2M0xdGoVIUJWd2APysUoUuyq1aZBqSIEEQStDJX1XXZL/pB/o7TgnYJHCM42c4L/RrKIDjkyBBEEooGvydS8xVYV59y/MR6CWBgiDs0BQtgJS6RroApvO3LSwBW9EdIPJ8rQ0UxWiCKHZf2IJJEQtAEKrTRwEwtU32wiCjF/QeE9AcW1MXZO0HMB2egadQE5/Z/mhS7LjUaU9/kZUXIwpAEKpTUQEw9VACPpRA2EsJGJ+Aumdjt/rsb39q3k6CRwV18+wXkeZlYXf8XRSAIFSn30m/3BJzZdhDF/kw9XXJmIANtfYDfdy7alTHEWfa9yfBowJt9UQF80QQhMFRddY/t9QsKHTT/N5KoIAeFkrg8Bpf3Vp3Ou2TBAuCMMYYcNlP53XmikI+VgKmJHaqBHQNiRIQhDFKv2MAvWlosheZjL48KrBfnQQCv4bdAlofvt19ypqfjf9TErxdqG+ks7ysujbsib9v0xjAJWSmvai8dQuVVXOWI2COUsvZwdDbvEpi9mzy23dfTmr5HHxGHRytVHurToYuSavZylO7J87Mwfjbuu3PHPuQQbkYxeW2rbw8h8vc7nzlmratLWU4aAXA1DXa+X5WX9ZbCQRQAlHBPhpu1p9Z8zOz3ZTAcCqAaSfS+PF70vXGU3tBwVnNcyAedF1BfW31EvNQEm1IzJ5LNdan67VPUylSId8SNREQqX/sXGzWcpyGZvsZ46tv2VCF2iiNcs4XSLWsbTN/cDfZSZnVEv1Ae3om6qJkonfrwH08lOuTHQ/rL6t1Gq1556DhTNvsjVMtUYGKeR7QBSilc6m5vNBDl3gBCrGXO+AF5mP+eHXbjLld+ybBY5p1d6guFVF3kNEztTE8vVgbZHU9sv23SZQhE3lUZwL9ea3NDO2ZOj+j6zSpvSNSv0+iKEtqD7hWOI9zeCZK+uggUu9KTu/E6MNQXq7ctvVA+R6FG04/uGtoHeCYR6sPoAynl5bFkBQAs3qpuSzK06WVlYA+NBNkb53ZZKcmwWMYTUTm+p7N8eKiMB/nEZxw1N/Yce7TENGaPstrKdhCiXA/tqIg8MvQu7+WREGADflZfJ4PG1EPebAWdnJgJXWVlsu2HHwflP3mceNGbs5o9ln07tkt9Mn6JvsJPvgzhyWntwvIbE/vMhyyAmByS0xrNSXgaXX7jLk05i0Bz6qctfYJXh7NsCJAr/xhf1JUF4cMno/NpV2s0ieki5ScIshTiOK7KQ6JQXiWXSoeW+HNTCjPrI7UKFt3+c6DcpnA5VHxgKtXCW6fFePjAJPc/yOEJZoBl/EeZfRKjQOSdg9pmp6cHjVslQJgWAnYgmqtpARgZhwSBDTmlUD79bqblL61uDcCKpSVARlzchIyaCYaOsbz9b7pUmUuN/DAHhv1OvcpRZtHC920JCqo6+Hv/hxmyM/zpLdYCDsrRt0L3/U2lMkvSo8opJujiH6JWsmzUnW4v2RhPd2Ha26ucM1taLN3ThzBVSOWN9bz3XHwMnX3eRTacdvsA9XNo0v9QF1SaWAwLNBjeMDJHYvNM0nwiDKsswAJDfPsdNRdpyLtc0WyAkDD+iOyevjqJeatJNqANDTbG9GbfylxI+Ly6aGvQ5F+Pw4Rtha4ZFO8SepJ4+ndef+K65CI8gVdOPI3bdnfxrHeWRqa7F/DWrwjSlbReq4ToRPQFn/lArYD9Y32Yr9Gt6ZtkNlqCyCls01favN0WUVLINAfhYq5HYK5XxI85nA9NNFDSY/t3ADj6w/6Wg36HQMfP23TnjAJP8VKkuFFVVHevmU9dWscImwL4yergHSfzkxrE2w314k83dM7RehAkq5p9LDNFkBKfbO9DAI/PxlgKcL+Fky0J21Pz0mrbxj3xyR4RBgJC4CB5jwfmvOq0t47ytOijjZzVhxSndomOjPIqKVpugKUCayjW3Nt5pQ4ZAuz59Iu+LNHAeaBymaUb5Ud/2f13F13mbLGc/Acyrx7Ak0NDZR4T14FE7K6J6KX0wHFI0+3u42vUSdEVtWilt8DBTbehuqJjkX6fFS75XUO9c+pfa2mIL0el73SvlC/wtdXo+FM+35D+QmFUFHg47qANrUvNhuS0xVJXjxzJIyow6ig9te+moQHGlhTr3qefizy1KOvd+gnn3hCowUNjaPOsHvBMltvjH53agHAdcoj7zPXXmceTqJVhe+BOj6SIvqwitT7ja+ybLXjfm/BtdigVfRIje8/tHKhfjO+opzjj7fZTe9RU20A/Z5XearRf4Xrrk131LpFdBS1UFfhPqt10p2gLXC9dW9+a+0NE55PgvpQ22Qn4Yr9vEjtB4uCB9jfh3vvinyi/NTb+LtBeWpdbqG+H7kv2blTTiULYNgUADOrxV6O3vGi3kqAG3wU2qeifP7EkVQCI6UAZs6lgzyf4Kvr8Zyv2A2wG1S3OTT3M/16Eq1f4EbcbgJ9Ymm6CgX6ElyIZXHIFmY12SYd0P8L85pcQ7aqGyLRkFtmnkiiODhNxrM5rfU4TpOfJV3I63/CPX/Cm6KQxoshEB/iuM514Wd20fqON/QRarmO6s+hXamH1qJh7g0hZEWt8czvdy4xF7kHVAH1fAfSdkyYx3UZXqug70QZz0lO96G+xZ5uDH3FWn0khN1zrY6lC7DfzumHr95jPPU4fOf7ajbqK1YuryxolZjebPcOrFMAuw1VAdTPs4ci/leRhr9mFyId73F+O0gFxA0Aa/q91ep6tUn/W+96rz/DHkq+uh/5yeJe3PrZJo6HGxNI2R4YKuwsF21lLr8o0ityi81pSZBbhDbzWXWg50XHGmMacLPDkZ59UXZZViRJ0hwuffjPKRqiVSHpf1y9WK/n4N6MiAtQChrBfBvSFdzAuRJSCmj4XmAOMpns7bVn2A8mwWOGNdfrpzSpVaVuAPKzdzQ+/EQc0j+1LfaDqLCji4N/UB5RSBsKBXVXHFKONdrXnhmnjR7PB4J2gXbvx5TVk9J4sHfH4TmmocWeFwQaikV/iCuaD1Y8TvmQKu7e9DYrQmOdAD8V15vxBs9Es+XnDQieEz8T13Fa8X1icqqMqXOpBspise/rG7QyR6lIe5yOiA+IAR8ubewaaZ1FWj4OhXbeWzX0vvgOg4OtJPwplQsHcQ6rAEX5ZeNRuxfoRjx3d04Pt1XuwFigeMaG08ZhUEycxgNRtgv0BLp7xjz74fguMdChHlIwOamPibhfmfAzRpusO8fllh5c7kRl5Vf7P/R3QQ096Ge8a9Aa/tZo/SEojiy3IZe+koO/cx1zWtHJzPIM3TmrV9qqMawKgGElEIa2rxJAIj1ff9hk1B0sFEnwmAGNaUVpa+K8+cr7TPK1Xwx6FrhGE9Mt1e5FKlrd+eCN5tU4pBew8bhHTA/Qg54s/lSC9eH1kgrTeNwQDKmvoTf+Hjdai4MVFtdDceoLAh9fjceMxzdCu02udw0cbcr9PxAl17l8kWIR7sM+AbXCQ5iXNlZXZkgPLijA1N5MinrSME4rSzCskc3ZIa57cG4Q564X6LH7KIWU+ibbgnr5CZHZpdDFz03Ki9NBtAnpew5/X8CXPJcd97w8b57fzPH0ERmjfgF3bY/kdsqDdMP6xRHXcenmuRQOS8+nB3cIUAr4fwuo2T0gKxNTZeQsOMTgcnJTxEl98lRxqcXC+UCe3gcrZUArLoULbtjJLfLmw8e9nM3OUiXAjQC9wUEeqTtmz7P7J8FjAs+jX8Itfy2tWDfrQeo49ATvjUMq4YamTi02QzbVWFQiXTb3X06FljMY8AyYsPtzg4gtFSrY0D4eRXQ3T4XxFBrqosPF7Z9+BWao1Dd2Hwz9cC4rfs4/N3Z8+gsE/HyksQ6e6uHQoDPgQHyqkKdzw4JdZi09gxZp+rd4hoe6Rvsx1OMPWHml6zJYuKDQ1tlC1Gij/JE9BfXxqOftw9Ft10KhtuLsRuPKNRG0jD7QBnRlHIK27dObyOhKKqh2Cule5PO3pfZH7OrQo3wOyuX+9IjylIMiLHNTuJlwPbKw819c9zIUVLst0CK4cd+A+9iCz2dHPfaHUFIvppYpw0oK5X3sJ063uyVBVemjNYcT+L4LvIy+sPKYAD2FHuuk9mFc4z5SYwAp8Bf/Axr286yZGb4//OC5nUvNDXFIOa6hGfUAijnD+eeKQsN4bOLz6ojeg3oppXlg5Yn0d0FpTF/zU/NYEsXBJihM34fY5EzLlhUu4r+AxrIUMveLINKP8VqG+Gw5PAagemg9zO59WAi4Nwm76Lud15lvJlH6paHZ3gNl80muVy4D5On2jsXlayNmNobnZmu8f2UFwI1fexTCyvhCZ5u5JYnSBzedN1lNy+fVw/1aSBUY6hhAXbP990xGfyEPQWa4N0UeVmTf0I39jT2g7o/HfW+ChTWByzv2xakHKn5a52LzeBwL3xya6pvtiTDdby+dBoRF8un2hQauXxqPWY47zcEd4WQm1M6z52QyqgnlcJdv1GqcWN+xSP+5NE5K3Rn2I1BMv8bN99qSdxuifmZ0LCrP+4iPAfSmo838MyyBb7NZVaoNnbkKSwCmyu2zzrQHJMGjHq3sLcXeHHCe0BBOTb72AedPQU/hhJ9hbW5JrehP+BltSlWlayqa/L6K2oRoDG4vUQz3sFCqK9EGZvFAHm9Y6k/4GR4DKL3efeo7lVaZ0usYXdqgY+DzH5BGYqsJjfPFl55XdyZBFVl7k3kNCuKeoQg/Y/IuPeVp6ocZX7YHaKtOYuXFcLnZkJ4Lu9TZ1QYec20Q3EjdwG2ZYZcJdZsla/8mDmFYQGMhRT2X1SOzJSyNx8fnWWzdNUVI/XTDM6p+dZuZj87rVxDkF/vESei8wTyOE/83trAAvkAR+hRFuyYhVRlRBcDkFpsLw5Au5cZfqgS4h4MvdRAa98pjvjI29g4UlLkHCm0D+2MMD8oQ6WMq7X3gaTrUxSmslRnWzLAW8oHR/faADHqYsjpBtZMO+zbuZAygWKJcviqyN61eZAY1y5KMAWypEf6EZ8VfBqD0Oob6Nk5EKObDqTStdt1jTzUiYz8249JTnqZ+8EN7LKzS8Wm9cM8MYb4OFtbLcUj/oMNa4Xr05EnOtTFmWvytHEThGimjUlgleIHZH6p0Er1ButbA3XNDnlwRsAqVCWBHDoIRVwCO/hqWK0h6fHOP6renGk0kc+y/TIdsuBHBBJ7saXVCHLKF3SbRUbAOPlYc/eeeQ6vV7YvVo3HI8AOVMKhR/HcCbWxxW3hsMuuJaG3LGprs56afZrfb7kaIxvRiR4S/sJqgzvR/JiFV8bV6Eq7C6+n1ycDu/rx13H3aTsAV3ATxt7E8xSBtJSMD/TPiCsCNAwS6lYWl1HzOjIMA5e2/m4L57G/azEtJ8KjHGnWL25GeNgLOE1EfNwDCeCryXTSWOToq5SZ8qqwMdzAiY/7TFmAfJS3MTVN5+jDt65syNeqhhma7BH71l2rP6HoHZ4TQSRo1teiSoVLQ+78VhurZOKQ6PW+oV3HJS87aAlz3OHbN7LKp4jTocMO7CWe12CNnNdvPo+zOrW2yV+Pvv6FNfgdZ42nIITOiCgCJu5wHAZMR8xiUoFsHn7c/00+bxmp+6mgkb3SHtfRUmRugdQOPeschqKg5xNtMTkpHmNkHLuTpDRXq2+OQHZ81i8yDELRrAih6HjBj3Nw/KwKjD+C5d8/XN+ogsw7K4Jf1zbZl2hyaHMccGaadpXg/x67FtsjpItqo335zYxxQnexfNLxAVR6XeE3EhEnJt2GFB0UbWuznIEffq2+x90YRrUdH2gnN9R8ov38NMvrr+Hs2yvM4Fv5ivobAiCkAVGorhL98VWAq/BFd9+qbEP72sSX8zLqFejP68NuKvQDyhoqoIe2fFIcgfxOpgfcLpCPAySDo3Z036ufikCpUmbt+B2BDZdj48wvqvLCH/kUZ6uF6ZzeIH+AWtKDmuW0YbSajrD7tB3rhxCnUgcY+5Bkb1MWgyix4jXzELPeNjc4X9OSkpgYG6S+Piyd7mb4DftsKr1PITFFrINw3+Rl9nmf0sbCg9kJZBWkt8Z+iO7OVjIgCaGiOWqGZLnZzkr2EP8rTEu+/dMsTy4e+5nu0gBbwizBPtugLIo+wLT+DT648Ef5Zt14gaZauDGzELxYcMoOdBRgqFWcB4g2sA9P7uRVmARgeyOpYZM6DyzTb5ukaWE5Ps0tQVAa4il1DHhB2U1NaHwLL6paZTXbAFZal2E2ufAZMe3ZCrzLjT6TGRRMpEwcMAuolM1q9DdduU/KtCPI2uLKswMxGe26Q1QtxlwNZSaYzFlFIoY14mpceiAr0/8OQFhe67A/w+UYkrGwMYLDLSYZdAdQ3R5d5gbm4tOfninY9f0jXdizWLej5E+N4bBL8UT+I2l1X5gYodeSMefTR4//Bcg9zfPrmOo6DivtTTeDfE4eMYnqP7g8TuaXmN6vazN/nu9QRFIV/Bavg22TpN1AcUbJC0RGvfdDjPK0u481DcejADNYCaH/WrTDcHH9LIDUpS4o3YA3IpkmKZ3aKcbldQ6Ft7Ap0nx/IgR23VWVZdxbtA5epla1HdpniMRQKo7z9ntGqDrbGYV2P6Ppcm/lCbrFp6bzO+yfE4Z/3L3ZIzHYZBHQ7An1TtiOQE8WLTNDz/zi3UJ+DkNQmGLMkCmyF6+UB5xVugB+Q/eTGt1UtfNu909F/np9FEdzW3y6yPvRav44+a1DTgENlpKcBK/HAMrMxtzRYmVtiLjRP63oEzbboyZw7ldwxaTvTA6KD4pCBGfQ0YFxvf46FCteh3vDsCT5M6zikOtkptCfStlexbcf1/9/sFrpPw4Bn6Wi4Q7s44UeOuP0Q2YtyS73zO9rMA1Cmf1nX90WmPAZRZnNAAQxKtodNATTMs/Nh9s/ndejFAsLdndlfoB91LDb/ByGDa2BjAa1uK+Spu9iYoLEhuyejFlrSpsgViLyj/tTNccgOQ+8GOGRYiaIX60Sj/oKN7F3pAhseAYEC5QWGe8chwwvq4ndFFYtnwafGN6o4l98bnVGHoo1P5Lp231H3+Fxx551n+u5n4MclH/sFgjs1TR8rGLSfF/3IuzYOqYyOBqm4KzAsCqC+xV5sAn1Zqc/PhcO1WCjQD+EHnhuH7jgkyz9zRTcgVnyzoAXmpD4bn7OkHoGJuDoOGfUMKNh1c/NHIacHp0IwHFir16WKNMVugw9dDZjX9znrLBEyVjha67+bfQklNdk/6L5OS9PplHuerO+pim/4sU71Fx/jJM1EW94D0B9l+Y4vflPt23eMoZTIqPyWBw2NbVYALPzQ2K2JADic8PP66gJdnVtkvhaH7nhositKG67mJVh6y84u1uCol1tgIm5zjznchHnY7aUDWqg7pLc4ldkb/vWnhmZ7lcn4K1HBU6sqgEvIzDrTHsIvskhCqgJFWVvsVVmwQuoxXWpEfl9iwjjVSZbWpxYHd1qep6aFG6rvoKtvtI287JvjM27fBanVx+ylO+OQcjzyX7ERFZxgQqR5zQE8uYE3wBn1HCsOhseR4KLsFz6r2F2qSMNpdk/fqAuM1l563VDYJgVQFP4KPT+043dXLTbfiEN3TMj37oAgvZGOBTjdnVQClwO7CBCsFXHI6GJzj+KtuD1px8EKHNJ3an2zXQZB/9SMM+0B/NKRunn2JHz/sc7QWpi/58PCmZCub+iXVpRCoK7OZNXquka7gKf2+C1CvDw6ieHgl8bi/tegBz7GPR9w24Gg5VZ16+JvJQwnd/2Il9jqK1kwU+XNFgFM9kuQzsUNLbaW38qEo2banNcm88Kbhib7fUjKIl7WxO2cxyygRCJ0162t/fy6UFcX/TeueaH0GcjXV+ubwtPrT7cHskKta7ZHoWwvqp8XFi1kyvd0wnbY5J6BtoQeJWN8e23dPDqaf1EqiWW4PGe32HPUeHW/l9GfG7BO+mGrFYDz+fsX/ivh8w+4q2ys07nQzevfy7+b2Jtkzrs9t7T8TT6jBf5pd6Tvd26JMuDGxvWIOv0iUn6Xr9XDxqOHjNG3wU8+B0K6J7s2RWVXFTfWQ7juo0FWX4hrf0VGPTLlXbQWCubXELRbcNyb8egB39dfcb0/rnAuk6WCVfoKfmuRu9UIkGvTyyFk12RqkFIUAkTZjeFAwc2zVq2KfFpvfVo3btIujyC802Q0rFjtudWMSKPr/UN1aW6pXpncsg884Il738PywMQWDs/jezdQoNYpnx5B59CRnagvh2YoLiV3b8zStMzNjgBWHNozB8Jcuzfcn3JQGCsamqldebiHp3+MNB+Y76KXSFGfdxAOhq1SAKjECyv5/FwwYUhX8C7AOHTHh3iHYNKb9DkiW2Xff2WsJlN6D+CjjPtUrQvTyi+NCxmKrxgkEakFMLdf5YFaFgS+AU/FcZ3Cm+G32kxg4eDeOZ63p7dQv1ejH3zafU+eC/qoBZSJWx/vBoVxX9xvN+Ppwz1PH4dGeyqUw7Gwi9/jlAqeHXBsTZvwrLM72/jddkNFl5UF8Ku9Ecj7g/4qLLQfcT54lopL2E1DkvaQ1qk4DsanDyBxgRvT4TTyz8EY6il00wUdS8wVfJ9qGFLfh4X4Cpcvw0qAyxLlOhFlMQV//WRredksQuTri/GM9RmUCecgto60QdnNwHWnIF31KL/3sJUQ9tDdOAkFjefhe5p/KNw+eSecKS0jPvBvaLDwo5dYwIlKhR+mTSz8edsKn39+HLpz0L3ZuxsWz7PwwCBPFPLBn1Exz79dMFW3v1bC8KYOiu/DB2qITXXuUcvgMBzdaTwiiowyrp8ZLLxlOLLqRJiza1gQuKE6ExyfXU/HwuHm6WkzFMXP0YCOWd0Gt06rt5DQNI0R0uGaaCmwlVfYPK1Hurq5YXLvzu0kbZauwab3V7QJgnKzLahPdi4xS1yEoaIpXywLHLh/d7U3AvEsBA9OFyI6BTV3n1ZU4PzzHjonSDj4L5eHW8mpoPwKdDMU4ieQxquS21RlVZt5Euk4Gfd/hJWMK1/cn8uVy5fv68qFfwGyhDU/MS93R+pkWCk3s2fPiofli8uMy4/LEZbSa0jPgvDNDaeQp59BepHbLfmHoii7J8MODM4V2ykffbRENeqbIPyZcuHnguItlVEhujS3xG+NQ7cPI/1CkP44psl+KJ9Ru5oCD6WhggKIrdVvtC/UT7kIQ2Dm2XZ3JHs/CINlLc51nX9dPbb2JpO8viKGf54sO0V9hN9FxyqDn7m5Sz/74PX84oihwb75blPo03jmp+ALfxCthDe38BTnCxChB4xW96MMfxfHJl0/jw7hHh49nLV4LuXV61Am/xWf38L+x9vse/dW+6tIfQT3mIq07oN78r35FcQFtKGX0FCfQJPk+e2tdpU4/VMmq0MgAr5Tn0m5vdGlnmBXJ4lWlfpmmkY2qkdJfgRt+l3IN4tUl7b6ZZTJOqjih1ZdZ55Oog+J2pPtJP+96iQo2zrcazLKwaqQNkHy/wTZ+R9r1PrctZXz33CWnQXX4zikaV9cxW9SfkUbuy5vzd3pD8by7spsjToI5enkmZDyCaR+f3fpT86BY79s94LU7wMlVuwoBq0AWPj9QC8I4ZP0FX7659wSU3w90vZieymAHY05c8hbPoI+uDB6YKNsQOrm2W+5nh9NIhV+Z9bhgKl7wWgQfmH4EOHfeRhQAdQ10gW+r6/k0ch4JDMWfu794YN8o/O6wflDgiCMPqoqgLom+02Y0d92PX8v4Y/y9LXOJebqOFQQhLFIvwrA/RxWoL/DvX4q/Dyyog29FoV0WudS88M4dPRAhuKNoYIgDIqK4sLCD5//Khb+1OxnuPe3RKsM6aXKUA3xTyCPFngNtVV12tenpauiZBBQEKrTRwHUzg2/EdR43+0t/ClsBbhFIMn30QJP+LpFK4nwM6IABKE6ZXJcd6Y9z8/q7/Un/GMNUQCCUJ2iCV/XaL++Iwm/IAgDo3kftH2e5mfG6YtLR/t3BHjZZaGLcrAAGpIgQRBK0Pz7dZ6v/kVrlYcC6LN+eCzjB8ojq9a1Lxz4N+8FYack3qNd+a2ugiAIgiAIgiAIgiAIgiAIgiAIgiAIgiAIgiAIgiAIgiAIgiAIgiAIgiAIgiAIgiAIgiAIgiAIgiAIgiAIgiAIgiAIgiAIgiAIgiAIgiAIgiAIgiAIgiAIgiAIgiAIgiAIgiAIgiAIgiAIgiAIgrDjo9T/Arz0LB2g9zQAAAAAAElFTkSuQmCC)"
      ],
      "metadata": {
        "id": "r2Ga697TpSyy"
      }
    },
    {
      "cell_type": "markdown",
      "source": [
        "# File Analyzer\n",
        "\n",
        "\n",
        "\n"
      ],
      "metadata": {
        "id": "aGbNxJSGRhgf"
      }
    },
    {
      "cell_type": "markdown",
      "source": [
        "## Description:\n",
        "\n",
        "This script allows you to scan multiple files via VirusTotal. Its use is simple:\n",
        "\n",
        "1. Select the files you want to scan.\n",
        "2. Wait on average 5 minutes and you can check the results (if this file was rated as malicious or suspicious).\n",
        "\n",
        "Important notes:\n",
        "\n",
        "* Only files with a maximum size of 650 MB and which do not contain a password can be scanned.\n",
        "* You can also scan ZIP files with a password, provided they are smaller than 3 MB."
      ],
      "metadata": {
        "id": "5Zp5MTR6TP38"
      }
    },
    {
      "cell_type": "markdown",
      "source": [
        "## Library import\n"
      ],
      "metadata": {
        "id": "v51OpcbOXqiG"
      }
    },
    {
      "cell_type": "code",
      "source": [
        "import concurrent.futures\n",
        "import hashlib\n",
        "import mimetypes\n",
        "import requests\n",
        "import os\n",
        "import pandas as pd\n",
        "import time\n",
        "from google.colab import files"
      ],
      "metadata": {
        "id": "CQ6_1-_yX6Ea"
      },
      "execution_count": null,
      "outputs": []
    },
    {
      "cell_type": "markdown",
      "source": [
        "## API Keys"
      ],
      "metadata": {
        "id": "Tsjh6DSwUTG3"
      }
    },
    {
      "cell_type": "code",
      "source": [
        "VIRUS_TOTAL_AK = 'YOUR_API_KEY'"
      ],
      "metadata": {
        "id": "fF7KJuxGUWYC"
      },
      "execution_count": null,
      "outputs": []
    },
    {
      "cell_type": "markdown",
      "source": [
        "## Classes"
      ],
      "metadata": {
        "id": "6vvs8xYmdtkx"
      }
    },
    {
      "cell_type": "markdown",
      "source": [
        "### Virus Total"
      ],
      "metadata": {
        "id": "5SGRowCpd65e"
      }
    },
    {
      "cell_type": "code",
      "source": [
        "import os\n",
        "import requests\n",
        "\n",
        "class VirusTotal:\n",
        "  # Constructor method.\n",
        "  def __init__(self, api_key):\n",
        "    self.api_key = api_key\n",
        "    self.url = 'https://www.virustotal.com/api/v3/files'\n",
        "    self.headers = {\n",
        "      \"accept\": \"application/json\",\n",
        "      'x-apikey': self.api_key,\n",
        "    }\n",
        "\n",
        "  # Method to analyze file.\n",
        "  def analyze_file(self, file_path, file_size):\n",
        "    if file_size <= 32:\n",
        "      print(\"File size is less than 32 MB\")\n",
        "      file_upload = {\"file\": (file_path, open(file_path, \"rb\"), \"application/octet-stream\")}\n",
        "      response = requests.post(self.url, files=file_upload, headers=self.headers)\n",
        "    elif 32 < file_size < 650:\n",
        "      print(\"File size is greater than 32 MB and less than 650 MB\")\n",
        "      url = \"https://www.virustotal.com/api/v3/files/upload_url\"\n",
        "      response = requests.get(url, headers=self.headers)\n",
        "      url = response.json()[\"data\"]\n",
        "      file_upload = {\"file\": (file_path, open(file_path, \"rb\"), \"application/octet-stream\")}\n",
        "      response = requests.post(url, files=file_upload, headers=self.headers)\n",
        "    else:\n",
        "      print(\"ERROR: File size is greater than 650 MB\")\n",
        "      return {\"ERROR\": \"File size is greater than 650 MB\"}\n",
        "    return response.json()\n",
        "\n",
        "  # Method to analyze ZIP file.\n",
        "  def analyze_zip_file(self, file_path, file_size, password=None):\n",
        "    if file_size <= 3:\n",
        "      print(\"File size is less than 3 MB\")\n",
        "      payload = { \"password\": password }\n",
        "      file_upload = {\"file\": (file_path, open(file_path, \"rb\"), \"application/octet-stream\")}\n",
        "      response = requests.post(self.url, data=payload, files=file_upload, headers=self.headers)\n",
        "    else:\n",
        "      print(\"ERROR: File size is greater than 3 MB\")\n",
        "      return {\"ERROR\": \"File size is greater than 3 MB\"}\n",
        "    return response.json()\n",
        "\n",
        "  # Method to get report.\n",
        "  def get_analysis_report(self, analysis_id):\n",
        "    url = f\"https://www.virustotal.com/api/v3/analyses/{analysis_id}\"\n",
        "    response = requests.get(url, headers=self.headers)\n",
        "    return response.json()"
      ],
      "metadata": {
        "id": "akk0n9KDd5jC"
      },
      "execution_count": null,
      "outputs": []
    },
    {
      "cell_type": "markdown",
      "source": [
        "## Functions"
      ],
      "metadata": {
        "id": "tW_x12soYICk"
      }
    },
    {
      "cell_type": "markdown",
      "source": [
        "### File upload\n",
        "\n",
        "This function allows you to upload files."
      ],
      "metadata": {
        "id": "VVRAmEuVLkdt"
      }
    },
    {
      "cell_type": "code",
      "source": [
        "def upload_files():\n",
        "  files_upload = files.upload()\n",
        "  return files_upload"
      ],
      "metadata": {
        "id": "r8Ebk_rZLjYH"
      },
      "execution_count": null,
      "outputs": []
    },
    {
      "cell_type": "markdown",
      "source": [
        "### Get SHA-256 Hash\n",
        "\n",
        "This function receives the path of a file, computes, and returns its SHA-256 hash.\n",
        "\n",
        "\n"
      ],
      "metadata": {
        "id": "mPM2_hD1YrFK"
      }
    },
    {
      "cell_type": "code",
      "source": [
        "def get_sha_256_hash(file_path):\n",
        "  sha256_hash = hashlib.sha256()\n",
        "  try:\n",
        "    with open(file_path, \"rb\") as file: # Reading file in binary mode.\n",
        "      for byte_block in iter(lambda: file.read(4096), b\"\"): # Reading the file in 4k blocks.\n",
        "        sha256_hash.update(byte_block) # Update hash with byte block.\n",
        "      return sha256_hash.hexdigest()\n",
        "  except FileNotFoundError:\n",
        "    return f\"ERROR: The file '{file_path}' was not found.\"\n",
        "  except Exception as e:\n",
        "    return f\"ERROR: {e}\""
      ],
      "metadata": {
        "id": "6SEF5i3aYQd3"
      },
      "execution_count": null,
      "outputs": []
    },
    {
      "cell_type": "markdown",
      "source": [
        "### Get file size (MB)\n",
        "\n",
        "This function receives the path of a file, computes, and returns its size in MB."
      ],
      "metadata": {
        "id": "1c3HSvTqfg2t"
      }
    },
    {
      "cell_type": "code",
      "source": [
        "def get_file_size(file_path):\n",
        "  try:\n",
        "    size_file_bytes = os.path.getsize(file_path) # Get the file size in bytes\n",
        "    size_file_mb = size_file_bytes / (1024 * 1024)\n",
        "    return round(size_file_mb, 2)\n",
        "  except FileNotFoundError:\n",
        "    return f\"ERROR: The file '{file_path}' was not found.\"\n",
        "  except Exception as e:\n",
        "    return f\"ERROR: {e}\""
      ],
      "metadata": {
        "id": "KIU689uIfhVD"
      },
      "execution_count": null,
      "outputs": []
    },
    {
      "cell_type": "markdown",
      "source": [
        "## Analysis"
      ],
      "metadata": {
        "id": "kw5VSz59K64P"
      }
    },
    {
      "cell_type": "code",
      "source": [
        "# Analysis.\n",
        "results = {\n",
        "    \"FILE\": list(),\n",
        "    \"TYPE\": list(),\n",
        "    \"SIZE (MB)\": list(),\n",
        "    \"MALICIOUS\": list(),\n",
        "    \"SUSPICIOUS\": list(),\n",
        "    \"SHA-256\": list()\n",
        "}\n",
        "\n",
        "# Dictionary that stores the analysis IDs.\n",
        "analysis_ids = dict()\n",
        "\n",
        "# CTI instances.\n",
        "vt = VirusTotal(VIRUS_TOTAL_AK)\n",
        "\n",
        "# Upload files.\n",
        "files = upload_files()\n",
        "\n",
        "for file_upload in files:\n",
        "\n",
        "  # File characterization.\n",
        "  file_path = file_upload\n",
        "  mime_type, _ = mimetypes.guess_type(file_path) # Automatically detect MIME type.\n",
        "  file_size = get_file_size(file_path)\n",
        "\n",
        "  if mime_type is None:\n",
        "    mime_type = \"application/octet-stream\" # Set a default MIME type.\n",
        "\n",
        "  if get_sha_256_hash(file_path) in results[\"SHA-256\"]:\n",
        "    continue\n",
        "\n",
        "  results[\"FILE\"].append(file_path)\n",
        "  results[\"TYPE\"].append(mime_type)\n",
        "  results[\"SIZE (MB)\"].append(file_size)\n",
        "  results[\"MALICIOUS\"].append(\"N/D\")\n",
        "  results[\"SUSPICIOUS\"].append(\"N/D\")\n",
        "  results[\"SHA-256\"].append(get_sha_256_hash(file_path))\n",
        "\n",
        "  # File Analysis.\n",
        "  report = vt.analyze_file(file_path, file_size)\n",
        "  analysis_ids[get_sha_256_hash(file_path)] = report[\"data\"][\"id\"]\n",
        "\n",
        "df = pd.DataFrame(results)\n",
        "display(df)"
      ],
      "metadata": {
        "id": "OZCG4CBwK_4k",
        "collapsed": true
      },
      "execution_count": null,
      "outputs": []
    },
    {
      "cell_type": "markdown",
      "source": [
        "##Waiting time"
      ],
      "metadata": {
        "id": "DvDpmRcmkkXK"
      }
    },
    {
      "cell_type": "code",
      "source": [
        "time.sleep(300)"
      ],
      "metadata": {
        "id": "h57MTzivANUz"
      },
      "execution_count": null,
      "outputs": []
    },
    {
      "cell_type": "markdown",
      "source": [
        "##Results"
      ],
      "metadata": {
        "id": "NrS9YH56knEu"
      }
    },
    {
      "cell_type": "code",
      "source": [
        "results[\"MALICIOUS\"].clear()\n",
        "results[\"SUSPICIOUS\"].clear()\n",
        "\n",
        "for analysis_id, report_id in analysis_ids.items():\n",
        "  report = vt.get_analysis_report(report_id)\n",
        "  print(report)\n",
        "  results[\"MALICIOUS\"].append(report.get(\"data\", {}).get(\"attributes\", {}).get(\"stats\", {}).get(\"malicious\", \"N/D\"))\n",
        "  results[\"SUSPICIOUS\"].append(report.get(\"data\", {}).get(\"attributes\", {}).get(\"stats\", {}).get(\"suspicious\", \"N/D\"))\n",
        "\n",
        "df = pd.DataFrame(results)\n",
        "display(df)"
      ],
      "metadata": {
        "id": "eSYF5486APCD"
      },
      "execution_count": null,
      "outputs": []
    },
    {
      "cell_type": "markdown",
      "source": [
        "##ZIP File Analysis"
      ],
      "metadata": {
        "id": "q4RqfLAAOfFo"
      }
    },
    {
      "cell_type": "code",
      "source": [
        "# Analysis.\n",
        "results = {\n",
        "    \"FILE\": list(),\n",
        "    \"TYPE\": list(),\n",
        "    \"SIZE (MB)\": list(),\n",
        "    \"MALICIOUS\": list(),\n",
        "    \"SUSPICIOUS\": list(),\n",
        "    \"SHA-256\": list()\n",
        "}\n",
        "\n",
        "# Dictionary that stores the analysis IDs.\n",
        "analysis_ids = dict()\n",
        "\n",
        "# CTI instances.\n",
        "vt = VirusTotal(VIRUS_TOTAL_AK)\n",
        "password = \"infected\"\n",
        "\n",
        "# Upload files.\n",
        "files = upload_files()\n",
        "\n",
        "for file_upload in files:\n",
        "\n",
        "  # File characterization.\n",
        "  file_path = file_upload\n",
        "  mime_type, _ = mimetypes.guess_type(file_path) # Automatically detect MIME type.\n",
        "  file_size = get_file_size(file_path)\n",
        "\n",
        "  if mime_type is None:\n",
        "    mime_type = \"application/octet-stream\" # Set a default MIME type.\n",
        "\n",
        "  if get_sha_256_hash(file_path) in results[\"SHA-256\"]:\n",
        "    continue\n",
        "\n",
        "  results[\"FILE\"].append(file_path)\n",
        "  results[\"TYPE\"].append(mime_type)\n",
        "  results[\"SIZE (MB)\"].append(file_size)\n",
        "  results[\"MALICIOUS\"].append(\"N/D\")\n",
        "  results[\"SUSPICIOUS\"].append(\"N/D\")\n",
        "  results[\"SHA-256\"].append(get_sha_256_hash(file_path))\n",
        "\n",
        "  # File Analysis.\n",
        "  report = vt.analyze_zip_file(file_path, file_size, password)\n",
        "  analysis_ids[get_sha_256_hash(file_path)] = report[\"data\"][\"id\"]\n",
        "\n",
        "df = pd.DataFrame(results)\n",
        "display(df)"
      ],
      "metadata": {
        "id": "dy3ETX7I-Cik"
      },
      "execution_count": null,
      "outputs": []
    },
    {
      "cell_type": "markdown",
      "source": [
        "##Waiting time"
      ],
      "metadata": {
        "id": "Awf8p9JG-qf3"
      }
    },
    {
      "cell_type": "code",
      "source": [
        "time.sleep(300)"
      ],
      "metadata": {
        "id": "tVWsy0fo-t8i"
      },
      "execution_count": null,
      "outputs": []
    },
    {
      "cell_type": "markdown",
      "source": [
        "##Results"
      ],
      "metadata": {
        "id": "hNVz7Sk3-vE6"
      }
    },
    {
      "cell_type": "code",
      "source": [
        "results[\"MALICIOUS\"].clear()\n",
        "results[\"SUSPICIOUS\"].clear()\n",
        "\n",
        "for analysis_id, report_id in analysis_ids.items():\n",
        "  report = vt.get_analysis_report(report_id)\n",
        "  print(report)\n",
        "  results[\"MALICIOUS\"].append(report.get(\"data\", {}).get(\"attributes\", {}).get(\"stats\", {}).get(\"malicious\", \"N/D\"))\n",
        "  results[\"SUSPICIOUS\"].append(report.get(\"data\", {}).get(\"attributes\", {}).get(\"stats\", {}).get(\"suspicious\", \"N/D\"))\n",
        "\n",
        "df = pd.DataFrame(results)\n",
        "display(df)"
      ],
      "metadata": {
        "id": "FrmdlNgV-xa6"
      },
      "execution_count": null,
      "outputs": []
    }
  ]
}